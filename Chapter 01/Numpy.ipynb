{
 "cells": [
  {
   "cell_type": "markdown",
   "metadata": {},
   "source": [
    "# Numpy\n",
    "파이썬에서 선형대수 기반의 프로그램을 쉽게 만들수 있도록 지원하는 대표적인 패키지    \n",
    "* 배열 기반의 연산과 다양한 데이터 핸들링 기능 제공\n",
    "* 많은 알고리즘 입출력 데이터로 넘파일 배열 타입을 이용"
   ]
  },
  {
   "cell_type": "markdown",
   "metadata": {},
   "source": [
    "## 1. 넘파이 ndarray 개요\n",
    "넘파이의 기반 데이터 타입은 ndarray이다. ndarray를 이용해 다차원 배열을 쉽게 생성하고 연산을 할 수 있다.\n",
    "* `np.array()` : 매개변수로 리스트를 받아서 ndarray형태로 반환\n",
    "* `shape` : ndarray의 크기를 튜플 형태로 반환\n",
    "* `ndim` : ndarray의 차원을 반환"
   ]
  },
  {
   "cell_type": "code",
   "execution_count": 1,
   "metadata": {},
   "outputs": [
    {
     "name": "stdout",
     "output_type": "stream",
     "text": [
      "array1 type :  <class 'numpy.ndarray'>\n",
      "array1 array 형태 :  (3,)\n",
      "array2 type :  <class 'numpy.ndarray'>\n",
      "array2 array 형태 :  (2, 3)\n",
      "array3 type :  <class 'numpy.ndarray'>\n",
      "array3  array 형태 :  (1, 3)\n"
     ]
    }
   ],
   "source": [
    "import numpy as np\n",
    "\n",
    "array1 = np.array([1, 2, 3])                   # 1차원 배열\n",
    "print('array1 type : ', type(array1))\n",
    "print('array1 array 형태 : ', array1.shape)\n",
    "\n",
    "array2 = np.array([[1, 2, 3],                  # 2차원 배열\n",
    "                   [4, 5, 6]])\n",
    "print('array2 type : ', type(array2))\n",
    "print('array2 array 형태 : ', array2.shape)\n",
    "\n",
    "array3 = np.array([[1, 2, 3]])                 # 2차원 배열\n",
    "print('array3 type : ', type(array3))\n",
    "print('array3  array 형태 : ', array3.shape)"
   ]
  },
  {
   "cell_type": "code",
   "execution_count": 2,
   "metadata": {},
   "outputs": [
    {
     "name": "stdout",
     "output_type": "stream",
     "text": [
      "array1 : 1차원, array2 : 2차원, array3 :  2차원\n"
     ]
    }
   ],
   "source": [
    "print('array1 : {:0}차원, array2 : {:1}차원, array3 : {:2}차원'.format(array1.ndim, array2.ndim, array3.ndim))"
   ]
  },
  {
   "cell_type": "markdown",
   "metadata": {},
   "source": [
    "## 2. ndarray의 데이터 타입\n",
    "ndarray내의 데이터 값은 숫자 값, 문자열 값, 불 값 등 모두 가능하지만 모든 요소들의 데이터 타입이 같아야 한다.\n",
    "* `dtype` : ndarray 내의 데이터 타입 반환"
   ]
  },
  {
   "cell_type": "code",
   "execution_count": 3,
   "metadata": {},
   "outputs": [
    {
     "name": "stdout",
     "output_type": "stream",
     "text": [
      "<class 'list'>\n",
      "<class 'numpy.ndarray'>\n",
      "[1 2 3] int32\n"
     ]
    }
   ],
   "source": [
    "list1 = [1, 2, 3]\n",
    "print(type(list1))            # list1의 데이터 타입 반환\n",
    "array1 = np.array(list1)\n",
    "print(type(array1))           # array1의 데이터 타입 반환\n",
    "print(array1, array1.dtype)   # array1의 요소들의 데이터 타입 반환"
   ]
  },
  {
   "cell_type": "markdown",
   "metadata": {},
   "source": [
    "만약 다른 데이터 타입이 섞여 있는 경우 데이데이터 크기가 더 큰 데이터 타입으로 형 변환을 일괄 적용한다."
   ]
  },
  {
   "cell_type": "code",
   "execution_count": 4,
   "metadata": {},
   "outputs": [
    {
     "name": "stdout",
     "output_type": "stream",
     "text": [
      "['1' '2' 'test'] <U11\n",
      "[1. 2. 3.] float64\n"
     ]
    }
   ],
   "source": [
    "# int와 string 데이터 타입이 섞여있는 경우\n",
    "list2 = [1, 2, 'test']\n",
    "array2 = np.array(list2)\n",
    "print(array2, array2.dtype)\n",
    "\n",
    "# int와 float 데이터 타입이 섞여있는 경우\n",
    "list3 = [1, 2, 3.0]\n",
    "array3 = np.array(list3)\n",
    "print(array3, array3.dtype)"
   ]
  },
  {
   "cell_type": "markdown",
   "metadata": {},
   "source": [
    "크기가 큰 데이터의 ndarray를 만들 때 메모리 절약을 위해 데이터 타입을 변경하기도 한다.\n",
    "* `astype()` : 매개변수로 원하는 데이터 타입을 문자열로 넣으면 해당 데이터 타입으로 일괄 형변환을 한다."
   ]
  },
  {
   "cell_type": "code",
   "execution_count": 5,
   "metadata": {},
   "outputs": [
    {
     "name": "stdout",
     "output_type": "stream",
     "text": [
      "[1. 2. 3.] float64\n",
      "[1 2 3] int32\n",
      "[1 2 3] int32\n"
     ]
    }
   ],
   "source": [
    "array_int = np.array([1, 2, 3])\n",
    "array_float = array_int.astype('float64')    # int -> float\n",
    "print(array_float, array_float.dtype)\n",
    "\n",
    "array_int1 = array_float.astype('int32')     # float -> int\n",
    "print(array_int1, array_int1.dtype)\n",
    "\n",
    "array_float1 = np.array([1.1, 2.1, 3.1])\n",
    "array_int2 = array_float1.astype('int32')    # float -> int\n",
    "print(array_int2, array_int2.dtype)"
   ]
  },
  {
   "cell_type": "markdown",
   "metadata": {},
   "source": [
    "## 3. ndarray를 편리하게 생성하기 - arange, zeros, ones\n",
    "테스트용으로 데이터를 만들거나 대규모의 데이터를 일괄적으로 초기화하고 싶을 경우\n",
    "* `arange()` : 0부터 매개변수-1까지의 값을 순차적으로 데이터값으로 변환 (int32)\n",
    "* `zeros()` : 매개변수로 튜플 타입의 shape값을 입력하면 모든 값을 0으로 채운 해당 shape를 가진 ndarray를 반환\n",
    "* `ones()` : `zeros()`와 비슷하게 1로 채운 ndarray를 반환\n",
    "    * dtype을 명시하지 않을 경우 float64 타입의 값으로 ndarray를 채움"
   ]
  },
  {
   "cell_type": "code",
   "execution_count": 6,
   "metadata": {},
   "outputs": [
    {
     "name": "stdout",
     "output_type": "stream",
     "text": [
      "[0 1 2 3 4 5 6 7 8 9]\n",
      "int32 (10,)\n",
      "[ 5  6  7  8  9 10 11 12 13 14]\n",
      "int32 (10,)\n"
     ]
    }
   ],
   "source": [
    "sequence_array = np.arange(10)\n",
    "print(sequence_array)\n",
    "print(sequence_array.dtype, sequence_array.shape)\n",
    "\n",
    "sequence_array2 = np.arange(5, 15)\n",
    "print(sequence_array2)\n",
    "print(sequence_array2.dtype, sequence_array2.shape)"
   ]
  },
  {
   "cell_type": "code",
   "execution_count": 7,
   "metadata": {},
   "outputs": [
    {
     "name": "stdout",
     "output_type": "stream",
     "text": [
      "[[0 0]\n",
      " [0 0]\n",
      " [0 0]]\n",
      "int32 (3, 2)\n",
      "[[1. 1.]\n",
      " [1. 1.]\n",
      " [1. 1.]]\n",
      "float64 (3, 2)\n"
     ]
    }
   ],
   "source": [
    "zero_array = np.zeros((3,2), dtype='int32')\n",
    "print(zero_array)\n",
    "print(zero_array.dtype, zero_array.shape)\n",
    "\n",
    "one_array = np.ones((3,2))\n",
    "print(one_array)\n",
    "print(one_array.dtype, one_array.shape)"
   ]
  },
  {
   "cell_type": "markdown",
   "metadata": {},
   "source": [
    "## 4. ndarray의 차원과 크기를 변경하는 reshape()\n",
    "`reshape()` 메서드는 변환을 원하는 크기를 매개변수에 넣어주면 ndarray를 특정 차원 및 크기로 반환한다."
   ]
  },
  {
   "cell_type": "code",
   "execution_count": 8,
   "metadata": {},
   "outputs": [
    {
     "name": "stdout",
     "output_type": "stream",
     "text": [
      "arr1 : \n",
      " [0 1 2 3 4 5 6 7 8 9]\n",
      "arr2 : \n",
      " [[0 1 2 3 4]\n",
      " [5 6 7 8 9]]\n",
      "arr3 : \n",
      " [[0 1]\n",
      " [2 3]\n",
      " [4 5]\n",
      " [6 7]\n",
      " [8 9]]\n"
     ]
    }
   ],
   "source": [
    "arr1 = np.arange(10)\n",
    "print('arr1 : \\n', arr1)\n",
    "\n",
    "arr2 = arr1.reshape(2, 5)\n",
    "print('arr2 : \\n', arr2)\n",
    "\n",
    "arr3 = arr1.reshape(5, 2)\n",
    "print('arr3 : \\n', arr3)"
   ]
  },
  {
   "cell_type": "markdown",
   "metadata": {},
   "source": [
    "단, `reshape()`는 모든 요소들이 다 들어갈 수 있는 크기로 변경 가능하지만, 조금 더 큰 사이즈나 조금 더 작은 사이즈일 경우 `ValueError` 메시지를 출력한다."
   ]
  },
  {
   "cell_type": "code",
   "execution_count": 9,
   "metadata": {},
   "outputs": [
    {
     "ename": "ValueError",
     "evalue": "cannot reshape array of size 10 into shape (4,3)",
     "output_type": "error",
     "traceback": [
      "\u001b[1;31m---------------------------------------------------------------------------\u001b[0m",
      "\u001b[1;31mValueError\u001b[0m                                Traceback (most recent call last)",
      "\u001b[1;32m<ipython-input-9-ced263098f72>\u001b[0m in \u001b[0;36m<module>\u001b[1;34m\u001b[0m\n\u001b[1;32m----> 1\u001b[1;33m \u001b[0marr1\u001b[0m\u001b[1;33m.\u001b[0m\u001b[0mreshape\u001b[0m\u001b[1;33m(\u001b[0m\u001b[1;36m4\u001b[0m\u001b[1;33m,\u001b[0m \u001b[1;36m3\u001b[0m\u001b[1;33m)\u001b[0m     \u001b[1;31m# ValueError\u001b[0m\u001b[1;33m\u001b[0m\u001b[1;33m\u001b[0m\u001b[0m\n\u001b[0m",
      "\u001b[1;31mValueError\u001b[0m: cannot reshape array of size 10 into shape (4,3)"
     ]
    }
   ],
   "source": [
    "arr1.reshape(4, 3)     # ValueError"
   ]
  },
  {
   "cell_type": "markdown",
   "metadata": {},
   "source": [
    "`reshape()`에 인자로 -1을 적용할 경우, 나머지 인자는 행 또는 열의 고정값이 되고 남은 열 또는 행은 그 값에 맞추어 값이 설정된다.\n",
    "\n",
    "아래 예제의 경우 `arr1`은 `1*10` 크기인데, `arr2`에서 열인 `5`가 고정이 되므로 행은 거기에 맞춰 `2`가 되므로 `2*5` 크기가 된다 `arr3`의 경우도 행인 `5`가 고정이 되므로 열은 거기에 맞춰 `2`가 되므로 `5*2` 크기가 된다."
   ]
  },
  {
   "cell_type": "code",
   "execution_count": 10,
   "metadata": {},
   "outputs": [
    {
     "name": "stdout",
     "output_type": "stream",
     "text": [
      "[0 1 2 3 4 5 6 7 8 9]\n",
      "arr2 shape :  (2, 5)\n",
      "arr3 shape :  (5, 2)\n"
     ]
    }
   ],
   "source": [
    "arr1 = np.arange(10)\n",
    "print(arr1)\n",
    "\n",
    "arr2 = arr1.reshape(-1, 5)\n",
    "print('arr2 shape : ', arr2.shape)\n",
    "\n",
    "arr3 = arr1.reshape(5, -1)\n",
    "print('arr3 shape : ', arr3.shape)"
   ]
  },
  {
   "cell_type": "markdown",
   "metadata": {},
   "source": [
    "단, 이 경우도 크기가 딱 맞아 떨어지지 않는 경우 `ValueError`를 발생시킨다."
   ]
  },
  {
   "cell_type": "code",
   "execution_count": 11,
   "metadata": {},
   "outputs": [
    {
     "ename": "ValueError",
     "evalue": "cannot reshape array of size 10 into shape (4)",
     "output_type": "error",
     "traceback": [
      "\u001b[1;31m---------------------------------------------------------------------------\u001b[0m",
      "\u001b[1;31mValueError\u001b[0m                                Traceback (most recent call last)",
      "\u001b[1;32m<ipython-input-11-c8f8bbb32245>\u001b[0m in \u001b[0;36m<module>\u001b[1;34m\u001b[0m\n\u001b[0;32m      1\u001b[0m \u001b[0marr1\u001b[0m \u001b[1;33m=\u001b[0m \u001b[0mnp\u001b[0m\u001b[1;33m.\u001b[0m\u001b[0marange\u001b[0m\u001b[1;33m(\u001b[0m\u001b[1;36m10\u001b[0m\u001b[1;33m)\u001b[0m\u001b[1;33m\u001b[0m\u001b[1;33m\u001b[0m\u001b[0m\n\u001b[1;32m----> 2\u001b[1;33m \u001b[0marr4\u001b[0m \u001b[1;33m=\u001b[0m \u001b[0marr1\u001b[0m\u001b[1;33m.\u001b[0m\u001b[0mreshape\u001b[0m\u001b[1;33m(\u001b[0m\u001b[1;33m-\u001b[0m\u001b[1;36m1\u001b[0m\u001b[1;33m,\u001b[0m \u001b[1;36m4\u001b[0m\u001b[1;33m)\u001b[0m\u001b[1;33m\u001b[0m\u001b[1;33m\u001b[0m\u001b[0m\n\u001b[0m",
      "\u001b[1;31mValueError\u001b[0m: cannot reshape array of size 10 into shape (4)"
     ]
    }
   ],
   "source": [
    "arr1 = np.arange(10)\n",
    "arr4 = arr1.reshape(-1, 4)"
   ]
  },
  {
   "cell_type": "markdown",
   "metadata": {},
   "source": [
    "`reshape(-1, 1)`는 ndarray의 크기를 통일하고 싶을 때 사용된다.\n",
    "* 항상 2차원이다.\n",
    "* 1개의 column을 가진 ndarray이다.\n",
    "\n",
    "(`tolist()`는 ndarray를 list로 변환한다.)"
   ]
  },
  {
   "cell_type": "code",
   "execution_count": 12,
   "metadata": {},
   "outputs": [
    {
     "name": "stdout",
     "output_type": "stream",
     "text": [
      "arr3d : \n",
      " [[[0, 1], [2, 3]], [[4, 5], [6, 7]]]\n",
      "arr5 : \n",
      " [[0], [1], [2], [3], [4], [5], [6], [7]]\n",
      "arr5 shape :  (8, 1)\n",
      "arr6 : \n",
      " [[0], [1], [2], [3], [4], [5], [6], [7]]\n",
      "arr6 shape :  (8, 1)\n"
     ]
    }
   ],
   "source": [
    "arr1 = np.arange(8)\n",
    "arr3d = arr1.reshape((2,2,2))\n",
    "print('arr3d : \\n', arr3d.tolist())\n",
    "\n",
    "# 3차원 ndarray -> 2차원 ndarray\n",
    "arr5 = arr3d.reshape(-1, 1)\n",
    "print('arr5 : \\n', arr5.tolist())\n",
    "print('arr5 shape : ', arr5.shape)\n",
    "\n",
    "# 1차원 ndarray -> 2차원 ndarray\n",
    "arr6 = arr1.reshape(-1, 1)\n",
    "print('arr6 : \\n', arr6.tolist())\n",
    "print('arr6 shape : ', arr6.shape)"
   ]
  },
  {
   "cell_type": "markdown",
   "metadata": {},
   "source": [
    "## 5. Numpy의 ndarray의 데이터 세트 선택하기 - 인덱싱\n",
    "인덱싱이란 ndarray 내의 일부 데이터 세트나 특정 데이터만을 선택하는 것을 말한다."
   ]
  },
  {
   "cell_type": "markdown",
   "metadata": {},
   "source": [
    "### 5.1. 단일 값 추출"
   ]
  },
  {
   "cell_type": "markdown",
   "metadata": {},
   "source": [
    "한 개의 데이터만 추출하는 방법이다.\n",
    "* 해당 위치의 인덱스 값을 입력하면 된다. -> 1차원 : [] / 2차원 : [,]\n",
    "* `-`를 이용하면 맨 뒤에서부터 데이터에 접근할 수 있다. -> 맨 앞의 시작 : 0, 맨 뒤의 시작 : -1\n",
    "* row를 `axis 0`, column을 `axis 1`이라 한다."
   ]
  },
  {
   "cell_type": "code",
   "execution_count": 13,
   "metadata": {},
   "outputs": [
    {
     "name": "stdout",
     "output_type": "stream",
     "text": [
      "arr1 :  [1 2 3 4 5 6 7 8 9]\n",
      "value :  3\n",
      "<class 'numpy.int32'>\n"
     ]
    }
   ],
   "source": [
    "# 1부터 9까지의 1차원 ndarray 생성\n",
    "arr1 = np.arange(start=1, stop=10)\n",
    "print('arr1 : ', arr1)\n",
    "\n",
    "value = arr1[2]\n",
    "print('value : ', value)\n",
    "print(type(value))"
   ]
  },
  {
   "cell_type": "code",
   "execution_count": 14,
   "metadata": {},
   "outputs": [
    {
     "name": "stdout",
     "output_type": "stream",
     "text": [
      "맨 뒤의 값 :  9  맨 뒤에서 두 번째 값 :  8\n"
     ]
    }
   ],
   "source": [
    "print('맨 뒤의 값 : ', arr1[-1], ' 맨 뒤에서 두 번째 값 : ', arr1[-2])"
   ]
  },
  {
   "cell_type": "code",
   "execution_count": 15,
   "metadata": {},
   "outputs": [
    {
     "name": "stdout",
     "output_type": "stream",
     "text": [
      "arr1 :  [9 2 3 4 5 6 7 8 0]\n"
     ]
    }
   ],
   "source": [
    "# 값 수정도 가능\n",
    "arr1[0] = 9\n",
    "arr1[8] = 0\n",
    "print('arr1 : ', arr1)"
   ]
  },
  {
   "cell_type": "code",
   "execution_count": 16,
   "metadata": {},
   "outputs": [
    {
     "name": "stdout",
     "output_type": "stream",
     "text": [
      "[[1 2 3]\n",
      " [4 5 6]\n",
      " [7 8 9]]\n",
      "(row=0, col=0) index 가리키는 값 :  1\n",
      "(row=0, col=1) index 가리키는 값 :  2\n",
      "(row=1, col=0) index 가리키는 값 :  4\n",
      "(row=1, col=1) index 가리키는 값 :  9\n"
     ]
    }
   ],
   "source": [
    "arr1d = np.arange(start=1, stop=10)\n",
    "arr2d = arr1d.reshape(3, 3)\n",
    "print(arr2d)\n",
    "\n",
    "print('(row=0, col=0) index 가리키는 값 : ', arr2d[0, 0])\n",
    "print('(row=0, col=1) index 가리키는 값 : ', arr2d[0, 1])\n",
    "print('(row=1, col=0) index 가리키는 값 : ', arr2d[1, 0])\n",
    "print('(row=1, col=1) index 가리키는 값 : ', arr2d[2, 2])"
   ]
  },
  {
   "cell_type": "markdown",
   "metadata": {},
   "source": [
    "### 5.2. 슬라이싱\n"
   ]
  },
  {
   "cell_type": "markdown",
   "metadata": {},
   "source": [
    "연속한 데이터를 추출하는 방법이다.\n",
    "* `:`기호를 이용한다.\n",
    "* 시작인덱스에서 종료인덱스-1까지의 데이터를 반환한다.\n",
    "* 반환된 데이터는 ndarray타입이다."
   ]
  },
  {
   "cell_type": "code",
   "execution_count": 17,
   "metadata": {},
   "outputs": [
    {
     "name": "stdout",
     "output_type": "stream",
     "text": [
      "[1 2 3]\n",
      "<class 'numpy.ndarray'>\n"
     ]
    }
   ],
   "source": [
    "arr1 = np.arange(start=1, stop=10)\n",
    "arr3 = arr1[0:3]\n",
    "print(arr3)\n",
    "print(type(arr3))"
   ]
  },
  {
   "cell_type": "markdown",
   "metadata": {},
   "source": [
    "`:`의 시작, 종료 인덱스는 생략이 가능하다.\n",
    "* 시작인덱스 없는 경우 : 0부터 시작\n",
    "* 종료인덱스 없는 경우 : 맨 마지막 인덱스에서 종료\n",
    "* 둘 다 없는 경우 : 배열 전체"
   ]
  },
  {
   "cell_type": "code",
   "execution_count": 18,
   "metadata": {},
   "outputs": [
    {
     "name": "stdout",
     "output_type": "stream",
     "text": [
      "[1 2 3]\n",
      "[4 5 6 7 8 9]\n",
      "[1 2 3 4 5 6 7 8 9]\n"
     ]
    }
   ],
   "source": [
    "arr1 = np.arange(start=1, stop=10)\n",
    "arr4 = arr1[:3]\n",
    "print(arr4)\n",
    "\n",
    "arr5 = arr1[3:]\n",
    "print(arr5)\n",
    "\n",
    "arr6 = arr1[:]\n",
    "print(arr6)"
   ]
  },
  {
   "cell_type": "code",
   "execution_count": 19,
   "metadata": {},
   "outputs": [
    {
     "name": "stdout",
     "output_type": "stream",
     "text": [
      "arr2d : \n",
      " [[1 2 3]\n",
      " [4 5 6]\n",
      " [7 8 9]]\n",
      "arr2d[0:2, 0:2] \n",
      " [[1 2]\n",
      " [4 5]]\n",
      "arr2d[1:3, 0:3] \n",
      " [[4 5 6]\n",
      " [7 8 9]]\n",
      "arr2d[1:3, :] \n",
      " [[4 5 6]\n",
      " [7 8 9]]\n",
      "arr2d[:, :] \n",
      " [[1 2 3]\n",
      " [4 5 6]\n",
      " [7 8 9]]\n",
      "arr2d[:2, 1:] \n",
      " [[1 2 3]\n",
      " [4 5 6]\n",
      " [7 8 9]]\n",
      "arr2d[:2, 1:] \n",
      " [[2 3]\n",
      " [5 6]]\n",
      "arr2d[:2, 0:] \n",
      " [[1 2 3]\n",
      " [4 5 6]]\n"
     ]
    }
   ],
   "source": [
    "# 2차원 ndarray 슬라이싱\n",
    "arr1d = np.arange(start=1, stop=10)\n",
    "arr2d = arr1d.reshape(3, 3)\n",
    "print('arr2d : \\n', arr2d)\n",
    "\n",
    "print('arr2d[0:2, 0:2] \\n', arr2d[0:2, 0:2])\n",
    "print('arr2d[1:3, 0:3] \\n', arr2d[1:3, 0:3])\n",
    "print('arr2d[1:3, :] \\n', arr2d[1:3, :])\n",
    "print('arr2d[:, :] \\n', arr2d[:, :])\n",
    "print('arr2d[:2, 1:] \\n', arr2d[:, :])\n",
    "print('arr2d[:2, 1:] \\n', arr2d[:2, 1:])\n",
    "print('arr2d[:2, 0:] \\n', arr2d[:2, 0:])"
   ]
  },
  {
   "cell_type": "code",
   "execution_count": 20,
   "metadata": {},
   "outputs": [
    {
     "name": "stdout",
     "output_type": "stream",
     "text": [
      "[1 2 3]\n",
      "[4 5 6]\n",
      "arr2d[0] shape :  (3,) arr2d[1] shape :  (3,)\n"
     ]
    }
   ],
   "source": [
    "# 2차원 ndarray에서 한 인덱스만 쓰면 1차원 ndarray를 반환\n",
    "print(arr2d[0])\n",
    "print(arr2d[1])\n",
    "print('arr2d[0] shape : ', arr2d[0].shape, 'arr2d[1] shape : ', arr2d[1].shape)"
   ]
  },
  {
   "cell_type": "markdown",
   "metadata": {},
   "source": [
    "### 5.3. 팬시 인덱싱\n",
    "리스트나 ndarray로 인덱스 집합을 지정하면 해당 위치의 인덱스에 해당하는 ndarray를 반환하는 방법이다."
   ]
  },
  {
   "cell_type": "code",
   "execution_count": 21,
   "metadata": {},
   "outputs": [
    {
     "name": "stdout",
     "output_type": "stream",
     "text": [
      "arr2d[[0, 1], 2] =>  [3, 6]\n",
      "arr2d[[0, 1], 0:2] =>  [[1, 2], [4, 5]]\n",
      "arr2d[[0, 1]] =>  [[1, 2, 3], [4, 5, 6]]\n"
     ]
    }
   ],
   "source": [
    "arr1d = np.arange(start=1, stop=10)\n",
    "arr2d = arr1d.reshape(3, 3)\n",
    "\n",
    "arr3 = arr2d[[0, 1], 2]\n",
    "print('arr2d[[0, 1], 2] => ', arr3.tolist())\n",
    "\n",
    "arr4 = arr2d[[0, 1], 0:2]\n",
    "print('arr2d[[0, 1], 0:2] => ', arr4.tolist())\n",
    "\n",
    "arr5 = arr2d[[0, 1]]\n",
    "print('arr2d[[0, 1]] => ', arr5.tolist())"
   ]
  },
  {
   "cell_type": "markdown",
   "metadata": {},
   "source": [
    "### 5.4. 불린 인덱싱\n",
    "조건 필터링과 검색을 동시에 할 수 있는 방법이다.\n",
    "* ndarray의 인덱스를 지정하는 `[]`내에 조건문을 넣는다.\n",
    "* 해당 조건문을 충족하는 요소들을 ndarray로 반환한다."
   ]
  },
  {
   "cell_type": "code",
   "execution_count": 22,
   "metadata": {},
   "outputs": [
    {
     "name": "stdout",
     "output_type": "stream",
     "text": [
      "arr1d > 5 불린 인덱싱 결과 값 :  [6 7 8 9]\n"
     ]
    }
   ],
   "source": [
    "arr1d = np.arange(start=1, stop=10)\n",
    "\n",
    "# [] 안에 arr1d > 5 Boolean Indexing을 적용\n",
    "arr3 = arr1d[arr1d > 5]\n",
    "print('arr1d > 5 불린 인덱싱 결과 값 : ', arr3)"
   ]
  },
  {
   "cell_type": "markdown",
   "metadata": {},
   "source": [
    "조건으로 반환된 ndarray객체를 인덱싱을 지정하는 `[]`내에 입력하면 False값은 무시하고 True값이 있는 위치 인덱스 값으로 자동 변환해 해당하는 인덱스 위치의 데이터만 반환한다."
   ]
  },
  {
   "cell_type": "code",
   "execution_count": 23,
   "metadata": {},
   "outputs": [
    {
     "data": {
      "text/plain": [
       "array([False, False, False, False, False,  True,  True,  True,  True])"
      ]
     },
     "execution_count": 23,
     "metadata": {},
     "output_type": "execute_result"
    }
   ],
   "source": [
    "arr1d > 5"
   ]
  },
  {
   "cell_type": "code",
   "execution_count": 24,
   "metadata": {},
   "outputs": [
    {
     "name": "stdout",
     "output_type": "stream",
     "text": [
      "불린 인덱스로 필터링 결과 :  [6 7 8 9]\n"
     ]
    }
   ],
   "source": [
    "bool_indexes = np.array([False, False, False, False, False, True, True, True, True])\n",
    "arr3 = arr1d[bool_indexes]\n",
    "print('불린 인덱스로 필터링 결과 : ', arr3)"
   ]
  },
  {
   "cell_type": "markdown",
   "metadata": {},
   "source": [
    "## 6. 행렬의 정렬 - sort()와 argsort()\n",
    "### 6.1. 행렬 정렬\n",
    "행렬을 정렬하는 방법은 두 가지가 있다.\n",
    "* `np.sort()` : 원 행렬은 그대로 유치한 채 원 행렬의 정렬된 행렬을 반환 (원 행렬은 변하지X)\n",
    "* `nadarray.sort()` : 원 행렬 자체를 정렬한 형태로 반환하며 반환값은 None"
   ]
  },
  {
   "cell_type": "code",
   "execution_count": 25,
   "metadata": {},
   "outputs": [
    {
     "name": "stdout",
     "output_type": "stream",
     "text": [
      "원본 행렬 :  [3 1 9 5]\n",
      "np.sort() 호출 후 반환된 정렬된 행렬 :  [1 3 5 9]\n",
      "np.sort() 호출 후 원본 행렬 :  [3 1 9 5]\n",
      "org_arr.sort() 호출 후 반환된 행렬 :  None\n",
      "org_arr.sort() 호출 후 원본 행렬 [1 3 5 9]\n"
     ]
    }
   ],
   "source": [
    "org_arr = np.array([3, 1 ,9, 5])\n",
    "print('원본 행렬 : ', org_arr)\n",
    "\n",
    "# np.sort()로 정렬\n",
    "sort_arr1 = np.sort(org_arr)\n",
    "print('np.sort() 호출 후 반환된 정렬된 행렬 : ', sort_arr1)\n",
    "print('np.sort() 호출 후 원본 행렬 : ', org_arr)\n",
    "\n",
    "# ndarray.sort()로 정렬\n",
    "sort_arr2 = org_arr.sort()\n",
    "print('org_arr.sort() 호출 후 반환된 행렬 : ', sort_arr2)\n",
    "print('org_arr.sort() 호출 후 원본 행렬', org_arr)"
   ]
  },
  {
   "cell_type": "markdown",
   "metadata": {},
   "source": [
    "기본적으로 정렬은 오름차순이며, 내림차순으로 하고 싶은 경우 `[::-1]`을 적용한다."
   ]
  },
  {
   "cell_type": "code",
   "execution_count": 26,
   "metadata": {},
   "outputs": [
    {
     "name": "stdout",
     "output_type": "stream",
     "text": [
      "내림차순으로 정렬 :  [9 5 3 1]\n"
     ]
    }
   ],
   "source": [
    "sort_arr1_desc = np.sort(org_arr)[::-1]\n",
    "print('내림차순으로 정렬 : ', sort_arr1_desc)"
   ]
  },
  {
   "cell_type": "markdown",
   "metadata": {},
   "source": [
    "2차원 이상의 배열일 경우 axis 축 값 설정에 따라 축 방향에 따라 정렬을 수행할 수 있다. 이 때 모든 축에 대해서 정렬을 실행한다."
   ]
  },
  {
   "cell_type": "code",
   "execution_count": 27,
   "metadata": {},
   "outputs": [
    {
     "name": "stdout",
     "output_type": "stream",
     "text": [
      "row방향으로 정렬 : \n",
      " [[ 7  1]\n",
      " [ 8 12]]\n",
      "col방향으로 정렬 : \n",
      " [[ 8 12]\n",
      " [ 1  7]]\n"
     ]
    }
   ],
   "source": [
    "arr2d = np.array([[8, 12],\n",
    "                  [7, 1 ]])\n",
    "\n",
    "sort_arr2d_axis0 = np.sort(arr2d, axis=0)\n",
    "print('row방향으로 정렬 : \\n', sort_arr2d_axis0)\n",
    "\n",
    "sort_arr2d_axis1 = np.sort(arr2d, axis=1)\n",
    "print('col방향으로 정렬 : \\n', sort_arr2d_axis1)"
   ]
  },
  {
   "cell_type": "markdown",
   "metadata": {},
   "source": [
    "### 6.2. 정렬된 행렬의 인덱스 반환하기\n",
    "원 행렬이 정렬되었을 때 기존 원 행렬의 요소에 대한 인덱스 번호가 필요할 때 `np.argsort()`를 이용한다.\n",
    "`np.argsort()`는 정렬된 행렬의 원 행렬 인덱스를 ndarray 타입으로 반환한다.\n",
    "* `ndarray`는 메타 데이터를 가질 수 없다.\n",
    "* 그러므로 실제 값과 그 값을 뜻하는 메타 데이터를 각각의 `ndarray`로 가져야 한다.\n",
    "* 이 때 `np.argsort()`를 이용하면 손쉽게 구할 수 있다."
   ]
  },
  {
   "cell_type": "code",
   "execution_count": 28,
   "metadata": {},
   "outputs": [
    {
     "name": "stdout",
     "output_type": "stream",
     "text": [
      "<class 'numpy.ndarray'>\n",
      "행렬 정렬 시 원 행렬의 인덱스 :  [1 0 3 2]\n"
     ]
    }
   ],
   "source": [
    "org_arr = np.array([3, 1, 9, 5])\n",
    "sort_indices = np.argsort(org_arr)\n",
    "print(type(sort_indices))\n",
    "print('행렬 정렬 시 원 행렬의 인덱스 : ', sort_indices)"
   ]
  },
  {
   "cell_type": "markdown",
   "metadata": {},
   "source": [
    "내림차순으로 정렬 시의 원 행렬의 인덱스를 구하고 싶을 때 `np.argsort()[::-1]`로 쓰면 된다."
   ]
  },
  {
   "cell_type": "code",
   "execution_count": 29,
   "metadata": {},
   "outputs": [
    {
     "name": "stdout",
     "output_type": "stream",
     "text": [
      "행렬 내림차순 정렬 시 원 행렬의 인덱스 :  [2 3 0 1]\n"
     ]
    }
   ],
   "source": [
    "org_arr = np.array([3, 1, 9, 5])\n",
    "sort_indices_desc = np.argsort(org_arr)[::-1]\n",
    "print('행렬 내림차순 정렬 시 원 행렬의 인덱스 : ', sort_indices_desc)"
   ]
  },
  {
   "cell_type": "markdown",
   "metadata": {},
   "source": [
    "## 7. 선형대수 연산 - 행렬 내적과 전치 행렬 구하기\n",
    "### 7.1. 행렬 내적(행렬 곱)\n",
    "행렬 내적은 행렬 곱이며, 두 행렬 A와 B의 내적은 `np.dot()`를 이용해 계산한다."
   ]
  },
  {
   "cell_type": "code",
   "execution_count": 30,
   "metadata": {},
   "outputs": [
    {
     "name": "stdout",
     "output_type": "stream",
     "text": [
      "행렬 내적 결과 : \n",
      " [[ 58  64]\n",
      " [139 154]]\n"
     ]
    }
   ],
   "source": [
    "A = np.array([[1, 2, 3],\n",
    "              [4, 5, 6]])\n",
    "B = np.array([[7, 8],\n",
    "              [9, 10],\n",
    "              [11, 12]])\n",
    "\n",
    "dot_product = np.dot(A, B)\n",
    "print('행렬 내적 결과 : \\n', dot_product)"
   ]
  },
  {
   "cell_type": "markdown",
   "metadata": {},
   "source": [
    "### 7.2. 전치 행렬\n",
    "원 행렬에서 행과 열 위치를 교환한 원소로 구성한 행렬을 전치 행렬이라고 한다."
   ]
  },
  {
   "cell_type": "code",
   "execution_count": 31,
   "metadata": {},
   "outputs": [
    {
     "name": "stdout",
     "output_type": "stream",
     "text": [
      "A의 전치행렬 : \n",
      " [[1 3]\n",
      " [2 4]]\n"
     ]
    }
   ],
   "source": [
    "A = np.array([[1, 2],\n",
    "              [3, 4]])\n",
    "transpose_mat = np.transpose(A)\n",
    "print('A의 전치행렬 : \\n', transpose_mat)"
   ]
  }
 ],
 "metadata": {
  "kernelspec": {
   "display_name": "Python 3",
   "language": "python",
   "name": "python3"
  },
  "language_info": {
   "codemirror_mode": {
    "name": "ipython",
    "version": 3
   },
   "file_extension": ".py",
   "mimetype": "text/x-python",
   "name": "python",
   "nbconvert_exporter": "python",
   "pygments_lexer": "ipython3",
   "version": "3.7.3"
  },
  "toc": {
   "base_numbering": 1,
   "nav_menu": {},
   "number_sections": false,
   "sideBar": true,
   "skip_h1_title": false,
   "title_cell": "Table of Contents",
   "title_sidebar": "Contents",
   "toc_cell": false,
   "toc_position": {},
   "toc_section_display": true,
   "toc_window_display": false
  },
  "varInspector": {
   "cols": {
    "lenName": 16,
    "lenType": 16,
    "lenVar": 40
   },
   "kernels_config": {
    "python": {
     "delete_cmd_postfix": "",
     "delete_cmd_prefix": "del ",
     "library": "var_list.py",
     "varRefreshCmd": "print(var_dic_list())"
    },
    "r": {
     "delete_cmd_postfix": ") ",
     "delete_cmd_prefix": "rm(",
     "library": "var_list.r",
     "varRefreshCmd": "cat(var_dic_list()) "
    }
   },
   "types_to_exclude": [
    "module",
    "function",
    "builtin_function_or_method",
    "instance",
    "_Feature"
   ],
   "window_display": false
  }
 },
 "nbformat": 4,
 "nbformat_minor": 2
}
