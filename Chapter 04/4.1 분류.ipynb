{
 "cells": [
  {
   "cell_type": "markdown",
   "metadata": {},
   "source": [
    "# 분류"
   ]
  },
  {
   "cell_type": "markdown",
   "metadata": {},
   "source": [
    "## 1. 지도학습\n",
    "* **정답(=레이블)이 있는 데이터가 주어진 상태**에서 학습하는 머신러닝 방법\n",
    "* 대표적인 지도학습으로 **분류(classification)**와 **회귀(regression)**가 있다."
   ]
  },
  {
   "cell_type": "markdown",
   "metadata": {},
   "source": [
    "## 2. 분류\n",
    "학습 데이터가 어떤 **레이블(=클래스값, 결정값)에 속하는지**에 대한 패턴을 머신러닝 알고리즘으로 학습한 모델로 새로운 데이터의 레이블을 예측하는 기법이다. 분류는 다음과 같은 머신러닝 알고리즘으로 구현할 수 있다.\n",
    "\n",
    "<img src='classification_algorithm.png' width=60%>"
   ]
  },
  {
   "cell_type": "markdown",
   "metadata": {},
   "source": [
    "앙상블은 이미지, 영상, 음성, NLP 영역 외에 **정형 데이터의 예측 분석 영역**에서 애용되고 있는 방법이다.\n",
    "* 보팅(Voting) : 같은 학습 데이터로 서로 다른(or 같은) 알고리즘으로 학습하여 최종 예측 결과를 선정하는 방식\n",
    "* 배깅(Bagging) : 학습 데이터를 여러 개로 샘플링 하여 같은 알고리즘을 가지고 학습을 하는 방식\n",
    "    * ex. 랜덤 포레스트(Random Forest)\n",
    "* 부스팅(Boosting) : 여러 개의 알고리즘으로 순차적으로 학습하는데, 앞에서 틀리게 예측한 것에 가중치를 주어 예측률을 높이는 방식\n",
    "    * ex. 그래디언트 부스팅(Gradient Boosting), XGBoost(eXtra Gradient Boosting), LightGBM\n",
    "* 스태킹(Stacking) : 여러 개의 알고리즘의 예측 결과값을 학습 데이터로 만들어 다른 알고리즘으로 학습하는 방식"
   ]
  },
  {
   "cell_type": "markdown",
   "metadata": {},
   "source": [
    "## 3. 결정 트리\n",
    "데이터의 규칙을 학습하여 **트리(Tree) 기반의 분류 규칙**을 생성하는 것.\n",
    "* `Decision Node(규칙 노드)` : 분류 규칙/기준 → 매 Decision Node마다 서브 트리가 생성\n",
    "* `Leaf Node(리프 노드)` : 규칙에 의해 결정되는 Label 값(=클래스 값)\n",
    "<img src='decision_tree.png' width=60%>"
   ]
  },
  {
   "cell_type": "markdown",
   "metadata": {},
   "source": [
    "### 3.1. 균일도와 엔트로피"
   ]
  },
  {
   "cell_type": "markdown",
   "metadata": {},
   "source": [
    "#### 3.1.1. Decision Node와 성능\n",
    "Decision Node가 많아질수록(= 트리의 깊이가 깊어질수록) 분류를 결정하는 방식이 더 복잡해지므로 오버피팅이 발생하여 성능 저하가 일어날 가능성이 높다. 그래서 예측 정확도를 높이기 위해서 **가능한 적은 Decision Node로 최대한 균일한 데이터 세트로 분리되도록** 해야 한다. "
   ]
  },
  {
   "cell_type": "markdown",
   "metadata": {},
   "source": [
    "#### 3.1.2. 균일도\n",
    "균일도가 높은 데이터 세트란 **한 가지 종류의 데이터가 데이터 세트의 상당 부분을 차지할 때의 데이터 세트**를 말한다. 이러한 균일도를 측정하는 지표로 엔트로피를 이용한 `정보이득지수`와 `지니계수`가 있다."
   ]
  },
  {
   "cell_type": "markdown",
   "metadata": {},
   "source": [
    "#### 3.1.3. 엔트로피: 정보이득과 지니계수\n",
    "엔트로피란 **주어진 데이터 집합의 혼잡도**를 말한다. 서로 다른 값이 섞여있으면 엔트로피가 높고, 같은 값이 섞여있으면 엔트로피가 낮다.\n",
    "* **정보 이득 지수** : `1 - 엔트로피`\n",
    "    * 결정트리는 정보이득지수가 높은 속성을 기준으로 분할을 한다.\n",
    "* **지니계수** : 데이터의 균일도\n",
    "    * 다양한 값을 가질수록 0에 가까워지며(=평등), 특정 값에 쏠릴수록 1에 가까워진다(=불평등).\n",
    "    * 결정 트리는 지니계수가 높은 속성을 기준으로 분할을 한다. "
   ]
  },
  {
   "cell_type": "markdown",
   "metadata": {},
   "source": [
    "### 3.2. 결정 트리 모델의 특징\n",
    "모델 정확도를 높이다 보면 트리의 깊이는 계속 깊어지게 되고 테스트 시 예측 성능이 떨어질수 밖에 없다. 그러므로 완벽한 규칙은 만들 수 없다고 인정하고 좀 더 나은 성능을 위해 **트리의 크기를 사전에 제한을 하는 튜닝**이 필요하다. "
   ]
  },
  {
   "cell_type": "markdown",
   "metadata": {},
   "source": [
    "<img src='decision_tree_pros_cons.png' width=80%>"
   ]
  },
  {
   "cell_type": "markdown",
   "metadata": {},
   "source": [
    "### 3.3. 결정 트리 파라미터\n",
    "사이킷런에서는 결정 트리 알고리즘을 구현한 `DecisionTreeClassifier`와 `DecisionTreeRegressor` 클래스를 제공한다. 전자는 분류를 위한 클래스이며, 후자는 회귀를 위한 클래스이다.\n",
    "\n",
    "#### 3.3.1. `min_samples_split`\n",
    "노드를 분할하기 위한 최소한의 샘플 데이터 수\n",
    "* 과적합 제어용으로 쓰이는 파라미터\n",
    "* 디폴트 값은 2이며, 값이 작을수록 분할되는 노드수가 증가하여 과적합이 증가\n",
    "\n",
    "#### 3.3.2. `min_samples_leaf`\n",
    "리프 노드가 되기 위한 최소 샘플 데이터 수\n",
    "* 과적합 제어용으로 쓰이는 파라미터이지만\n",
    "* 특정 클래스의 데이터가 극도로 적을 경우 `min_samples_leaf`를 작게 설정해야 한다.\n",
    "\n",
    "#### 3.3.3. `max_features`\n",
    "최적의 분할을 위해 고려할 최대 피처의 개수\n",
    "* `None` : 디폴트 값으로 데이터 세트의 모든 피처를 고려한다.\n",
    "* `int형` : 고려할 피처의 개수\n",
    "* `float형` : 고려할 피처의 비율\n",
    "* `sqrt` : $\\sqrt{전체 피처의 개수}$ 만큼 고려\n",
    "* `auto` : `sqrt`와 동일한 개수만큼 피처를 고려\n",
    "* `log` : $\\log_{2}{전체피처개수}$ 만큼 고려\n",
    "\n",
    "#### 3.3.4. `max_depth`\n",
    "트리의 최대 깊이\n",
    "* `None` : 완벽하게 클래스 값이 결정 or `min_samples_split`보다 데이터 개수가 작아질 때까지 깊이 증가\n",
    "* 깊이가 깊어지면 `min_samples_split`의 값만큼 최대 분할이 되므로 오버피팅이 일어날 수 있다.\n",
    "\n",
    "#### 3.3.5. `max_leaf_nodes`\n",
    "리프 노드의 최대 개수"
   ]
  },
  {
   "cell_type": "markdown",
   "metadata": {},
   "source": [
    "### 3.4. 결정 트리 모델의 시각화\n",
    "`Graphviz` 패키지를 사용하면 결정 트리 알고리즘이 어떤 규칙을 가지고 트리를 생성하는지 시각적으로 볼 수 있다. 사이킷런에서 `export_graphviz()`에 인자로 `학습이 완료된 Estimator`, `피처의 column명`, `레이블 값`을 넣으면 트리 형태로 시각화해준다."
   ]
  },
  {
   "cell_type": "code",
   "execution_count": 1,
   "metadata": {},
   "outputs": [
    {
     "data": {
      "text/plain": [
       "DecisionTreeClassifier(class_weight=None, criterion='gini', max_depth=None,\n",
       "                       max_features=None, max_leaf_nodes=None,\n",
       "                       min_impurity_decrease=0.0, min_impurity_split=None,\n",
       "                       min_samples_leaf=1, min_samples_split=2,\n",
       "                       min_weight_fraction_leaf=0.0, presort=False,\n",
       "                       random_state=156, splitter='best')"
      ]
     },
     "execution_count": 1,
     "metadata": {},
     "output_type": "execute_result"
    }
   ],
   "source": [
    "from sklearn.tree import DecisionTreeClassifier\n",
    "from sklearn.datasets import load_iris\n",
    "from sklearn.model_selection import train_test_split\n",
    "import warnings\n",
    "warnings.filterwarnings('ignore')\n",
    "\n",
    "# DecisionTree Classifier 생성\n",
    "dt_clf = DecisionTreeClassifier(random_state=156)\n",
    "\n",
    "# 붓꽃 데이터 로딩 and 학습/테스트 데이터 세트로 분리\n",
    "iris_data = load_iris()\n",
    "X_train, X_test, y_train, y_test = train_test_split(iris_data.data, iris_data.target, test_size=0.2, random_state=11)\n",
    "\n",
    "# DecisionTreeClassifier의 학습\n",
    "dt_clf.fit(X_train, y_train)"
   ]
  },
  {
   "cell_type": "code",
   "execution_count": 2,
   "metadata": {},
   "outputs": [],
   "source": [
    "from sklearn.tree import export_graphviz\n",
    "\n",
    "# 학습된 모델을 가지고 out_file로 지정된 tree.dot 파일을 생성\n",
    "export_graphviz(dt_clf, out_file='tree.dot', class_names=iris_data.target_names, \\\n",
    "               feature_names=iris_data.feature_names, impurity=True, filled=True)"
   ]
  },
  {
   "cell_type": "code",
   "execution_count": 4,
   "metadata": {},
   "outputs": [
    {
     "data": {
      "image/svg+xml": [
       "<?xml version=\"1.0\" encoding=\"UTF-8\" standalone=\"no\"?>\r\n",
       "<!DOCTYPE svg PUBLIC \"-//W3C//DTD SVG 1.1//EN\"\r\n",
       " \"http://www.w3.org/Graphics/SVG/1.1/DTD/svg11.dtd\">\r\n",
       "<!-- Generated by graphviz version 2.38.0 (20140413.2041)\r\n",
       " -->\r\n",
       "<!-- Title: Tree Pages: 1 -->\r\n",
       "<svg width=\"746pt\" height=\"671pt\"\r\n",
       " viewBox=\"0.00 0.00 746.00 671.00\" xmlns=\"http://www.w3.org/2000/svg\" xmlns:xlink=\"http://www.w3.org/1999/xlink\">\r\n",
       "<g id=\"graph0\" class=\"graph\" transform=\"scale(1 1) rotate(0) translate(4 667)\">\r\n",
       "<title>Tree</title>\r\n",
       "<polygon fill=\"white\" stroke=\"none\" points=\"-4,4 -4,-667 742,-667 742,4 -4,4\"/>\r\n",
       "<!-- 0 -->\r\n",
       "<g id=\"node1\" class=\"node\"><title>0</title>\r\n",
       "<polygon fill=\"#fffdfd\" stroke=\"black\" points=\"272,-663 114,-663 114,-580 272,-580 272,-663\"/>\r\n",
       "<text text-anchor=\"middle\" x=\"193\" y=\"-647.8\" font-family=\"Times New Roman,serif\" font-size=\"14.00\">petal length (cm) &lt;= 2.45</text>\r\n",
       "<text text-anchor=\"middle\" x=\"193\" y=\"-632.8\" font-family=\"Times New Roman,serif\" font-size=\"14.00\">gini = 0.667</text>\r\n",
       "<text text-anchor=\"middle\" x=\"193\" y=\"-617.8\" font-family=\"Times New Roman,serif\" font-size=\"14.00\">samples = 120</text>\r\n",
       "<text text-anchor=\"middle\" x=\"193\" y=\"-602.8\" font-family=\"Times New Roman,serif\" font-size=\"14.00\">value = [41, 40, 39]</text>\r\n",
       "<text text-anchor=\"middle\" x=\"193\" y=\"-587.8\" font-family=\"Times New Roman,serif\" font-size=\"14.00\">class = setosa</text>\r\n",
       "</g>\r\n",
       "<!-- 1 -->\r\n",
       "<g id=\"node2\" class=\"node\"><title>1</title>\r\n",
       "<polygon fill=\"#e58139\" stroke=\"black\" points=\"173,-536.5 61,-536.5 61,-468.5 173,-468.5 173,-536.5\"/>\r\n",
       "<text text-anchor=\"middle\" x=\"117\" y=\"-521.3\" font-family=\"Times New Roman,serif\" font-size=\"14.00\">gini = 0.0</text>\r\n",
       "<text text-anchor=\"middle\" x=\"117\" y=\"-506.3\" font-family=\"Times New Roman,serif\" font-size=\"14.00\">samples = 41</text>\r\n",
       "<text text-anchor=\"middle\" x=\"117\" y=\"-491.3\" font-family=\"Times New Roman,serif\" font-size=\"14.00\">value = [41, 0, 0]</text>\r\n",
       "<text text-anchor=\"middle\" x=\"117\" y=\"-476.3\" font-family=\"Times New Roman,serif\" font-size=\"14.00\">class = setosa</text>\r\n",
       "</g>\r\n",
       "<!-- 0&#45;&gt;1 -->\r\n",
       "<g id=\"edge1\" class=\"edge\"><title>0&#45;&gt;1</title>\r\n",
       "<path fill=\"none\" stroke=\"black\" d=\"M166.632,-579.907C159.321,-568.652 151.374,-556.418 144.026,-545.106\"/>\r\n",
       "<polygon fill=\"black\" stroke=\"black\" points=\"146.927,-543.146 138.544,-536.667 141.057,-546.96 146.927,-543.146\"/>\r\n",
       "<text text-anchor=\"middle\" x=\"133.349\" y=\"-557.421\" font-family=\"Times New Roman,serif\" font-size=\"14.00\">True</text>\r\n",
       "</g>\r\n",
       "<!-- 2 -->\r\n",
       "<g id=\"node3\" class=\"node\"><title>2</title>\r\n",
       "<polygon fill=\"#fafefc\" stroke=\"black\" points=\"346.5,-544 191.5,-544 191.5,-461 346.5,-461 346.5,-544\"/>\r\n",
       "<text text-anchor=\"middle\" x=\"269\" y=\"-528.8\" font-family=\"Times New Roman,serif\" font-size=\"14.00\">petal width (cm) &lt;= 1.55</text>\r\n",
       "<text text-anchor=\"middle\" x=\"269\" y=\"-513.8\" font-family=\"Times New Roman,serif\" font-size=\"14.00\">gini = 0.5</text>\r\n",
       "<text text-anchor=\"middle\" x=\"269\" y=\"-498.8\" font-family=\"Times New Roman,serif\" font-size=\"14.00\">samples = 79</text>\r\n",
       "<text text-anchor=\"middle\" x=\"269\" y=\"-483.8\" font-family=\"Times New Roman,serif\" font-size=\"14.00\">value = [0, 40, 39]</text>\r\n",
       "<text text-anchor=\"middle\" x=\"269\" y=\"-468.8\" font-family=\"Times New Roman,serif\" font-size=\"14.00\">class = versicolor</text>\r\n",
       "</g>\r\n",
       "<!-- 0&#45;&gt;2 -->\r\n",
       "<g id=\"edge2\" class=\"edge\"><title>0&#45;&gt;2</title>\r\n",
       "<path fill=\"none\" stroke=\"black\" d=\"M219.368,-579.907C225.086,-571.105 231.193,-561.703 237.098,-552.612\"/>\r\n",
       "<polygon fill=\"black\" stroke=\"black\" points=\"240.167,-554.313 242.679,-544.021 234.296,-550.5 240.167,-554.313\"/>\r\n",
       "<text text-anchor=\"middle\" x=\"247.874\" y=\"-564.775\" font-family=\"Times New Roman,serif\" font-size=\"14.00\">False</text>\r\n",
       "</g>\r\n",
       "<!-- 3 -->\r\n",
       "<g id=\"node4\" class=\"node\"><title>3</title>\r\n",
       "<polygon fill=\"#3ee684\" stroke=\"black\" points=\"261,-425 103,-425 103,-342 261,-342 261,-425\"/>\r\n",
       "<text text-anchor=\"middle\" x=\"182\" y=\"-409.8\" font-family=\"Times New Roman,serif\" font-size=\"14.00\">petal length (cm) &lt;= 5.25</text>\r\n",
       "<text text-anchor=\"middle\" x=\"182\" y=\"-394.8\" font-family=\"Times New Roman,serif\" font-size=\"14.00\">gini = 0.051</text>\r\n",
       "<text text-anchor=\"middle\" x=\"182\" y=\"-379.8\" font-family=\"Times New Roman,serif\" font-size=\"14.00\">samples = 38</text>\r\n",
       "<text text-anchor=\"middle\" x=\"182\" y=\"-364.8\" font-family=\"Times New Roman,serif\" font-size=\"14.00\">value = [0, 37, 1]</text>\r\n",
       "<text text-anchor=\"middle\" x=\"182\" y=\"-349.8\" font-family=\"Times New Roman,serif\" font-size=\"14.00\">class = versicolor</text>\r\n",
       "</g>\r\n",
       "<!-- 2&#45;&gt;3 -->\r\n",
       "<g id=\"edge3\" class=\"edge\"><title>2&#45;&gt;3</title>\r\n",
       "<path fill=\"none\" stroke=\"black\" d=\"M238.816,-460.907C232.135,-451.923 224.991,-442.315 218.101,-433.05\"/>\r\n",
       "<polygon fill=\"black\" stroke=\"black\" points=\"220.907,-430.957 212.131,-425.021 215.289,-435.134 220.907,-430.957\"/>\r\n",
       "</g>\r\n",
       "<!-- 6 -->\r\n",
       "<g id=\"node7\" class=\"node\"><title>6</title>\r\n",
       "<polygon fill=\"#8b49e7\" stroke=\"black\" points=\"434.5,-425 279.5,-425 279.5,-342 434.5,-342 434.5,-425\"/>\r\n",
       "<text text-anchor=\"middle\" x=\"357\" y=\"-409.8\" font-family=\"Times New Roman,serif\" font-size=\"14.00\">petal width (cm) &lt;= 1.75</text>\r\n",
       "<text text-anchor=\"middle\" x=\"357\" y=\"-394.8\" font-family=\"Times New Roman,serif\" font-size=\"14.00\">gini = 0.136</text>\r\n",
       "<text text-anchor=\"middle\" x=\"357\" y=\"-379.8\" font-family=\"Times New Roman,serif\" font-size=\"14.00\">samples = 41</text>\r\n",
       "<text text-anchor=\"middle\" x=\"357\" y=\"-364.8\" font-family=\"Times New Roman,serif\" font-size=\"14.00\">value = [0, 3, 38]</text>\r\n",
       "<text text-anchor=\"middle\" x=\"357\" y=\"-349.8\" font-family=\"Times New Roman,serif\" font-size=\"14.00\">class = virginica</text>\r\n",
       "</g>\r\n",
       "<!-- 2&#45;&gt;6 -->\r\n",
       "<g id=\"edge6\" class=\"edge\"><title>2&#45;&gt;6</title>\r\n",
       "<path fill=\"none\" stroke=\"black\" d=\"M299.531,-460.907C306.289,-451.923 313.515,-442.315 320.484,-433.05\"/>\r\n",
       "<polygon fill=\"black\" stroke=\"black\" points=\"323.309,-435.116 326.523,-425.021 317.715,-430.909 323.309,-435.116\"/>\r\n",
       "</g>\r\n",
       "<!-- 4 -->\r\n",
       "<g id=\"node5\" class=\"node\"><title>4</title>\r\n",
       "<polygon fill=\"#39e581\" stroke=\"black\" points=\"116,-298.5 0,-298.5 0,-230.5 116,-230.5 116,-298.5\"/>\r\n",
       "<text text-anchor=\"middle\" x=\"58\" y=\"-283.3\" font-family=\"Times New Roman,serif\" font-size=\"14.00\">gini = 0.0</text>\r\n",
       "<text text-anchor=\"middle\" x=\"58\" y=\"-268.3\" font-family=\"Times New Roman,serif\" font-size=\"14.00\">samples = 37</text>\r\n",
       "<text text-anchor=\"middle\" x=\"58\" y=\"-253.3\" font-family=\"Times New Roman,serif\" font-size=\"14.00\">value = [0, 37, 0]</text>\r\n",
       "<text text-anchor=\"middle\" x=\"58\" y=\"-238.3\" font-family=\"Times New Roman,serif\" font-size=\"14.00\">class = versicolor</text>\r\n",
       "</g>\r\n",
       "<!-- 3&#45;&gt;4 -->\r\n",
       "<g id=\"edge4\" class=\"edge\"><title>3&#45;&gt;4</title>\r\n",
       "<path fill=\"none\" stroke=\"black\" d=\"M138.979,-341.907C126.582,-330.211 113.066,-317.457 100.69,-305.78\"/>\r\n",
       "<polygon fill=\"black\" stroke=\"black\" points=\"102.827,-302.984 93.1513,-298.667 98.0227,-308.075 102.827,-302.984\"/>\r\n",
       "</g>\r\n",
       "<!-- 5 -->\r\n",
       "<g id=\"node6\" class=\"node\"><title>5</title>\r\n",
       "<polygon fill=\"#8139e5\" stroke=\"black\" points=\"241.5,-298.5 134.5,-298.5 134.5,-230.5 241.5,-230.5 241.5,-298.5\"/>\r\n",
       "<text text-anchor=\"middle\" x=\"188\" y=\"-283.3\" font-family=\"Times New Roman,serif\" font-size=\"14.00\">gini = 0.0</text>\r\n",
       "<text text-anchor=\"middle\" x=\"188\" y=\"-268.3\" font-family=\"Times New Roman,serif\" font-size=\"14.00\">samples = 1</text>\r\n",
       "<text text-anchor=\"middle\" x=\"188\" y=\"-253.3\" font-family=\"Times New Roman,serif\" font-size=\"14.00\">value = [0, 0, 1]</text>\r\n",
       "<text text-anchor=\"middle\" x=\"188\" y=\"-238.3\" font-family=\"Times New Roman,serif\" font-size=\"14.00\">class = virginica</text>\r\n",
       "</g>\r\n",
       "<!-- 3&#45;&gt;5 -->\r\n",
       "<g id=\"edge5\" class=\"edge\"><title>3&#45;&gt;5</title>\r\n",
       "<path fill=\"none\" stroke=\"black\" d=\"M184.082,-341.907C184.631,-331.204 185.225,-319.615 185.781,-308.776\"/>\r\n",
       "<polygon fill=\"black\" stroke=\"black\" points=\"189.282,-308.833 186.299,-298.667 182.291,-308.475 189.282,-308.833\"/>\r\n",
       "</g>\r\n",
       "<!-- 7 -->\r\n",
       "<g id=\"node8\" class=\"node\"><title>7</title>\r\n",
       "<polygon fill=\"#ffffff\" stroke=\"black\" points=\"431,-306 271,-306 271,-223 431,-223 431,-306\"/>\r\n",
       "<text text-anchor=\"middle\" x=\"351\" y=\"-290.8\" font-family=\"Times New Roman,serif\" font-size=\"14.00\">sepal length (cm) &lt;= 5.45</text>\r\n",
       "<text text-anchor=\"middle\" x=\"351\" y=\"-275.8\" font-family=\"Times New Roman,serif\" font-size=\"14.00\">gini = 0.5</text>\r\n",
       "<text text-anchor=\"middle\" x=\"351\" y=\"-260.8\" font-family=\"Times New Roman,serif\" font-size=\"14.00\">samples = 4</text>\r\n",
       "<text text-anchor=\"middle\" x=\"351\" y=\"-245.8\" font-family=\"Times New Roman,serif\" font-size=\"14.00\">value = [0, 2, 2]</text>\r\n",
       "<text text-anchor=\"middle\" x=\"351\" y=\"-230.8\" font-family=\"Times New Roman,serif\" font-size=\"14.00\">class = versicolor</text>\r\n",
       "</g>\r\n",
       "<!-- 6&#45;&gt;7 -->\r\n",
       "<g id=\"edge7\" class=\"edge\"><title>6&#45;&gt;7</title>\r\n",
       "<path fill=\"none\" stroke=\"black\" d=\"M354.918,-341.907C354.49,-333.558 354.034,-324.671 353.591,-316.02\"/>\r\n",
       "<polygon fill=\"black\" stroke=\"black\" points=\"357.086,-315.828 353.078,-306.021 350.095,-316.187 357.086,-315.828\"/>\r\n",
       "</g>\r\n",
       "<!-- 12 -->\r\n",
       "<g id=\"node13\" class=\"node\"><title>12</title>\r\n",
       "<polygon fill=\"#843ee6\" stroke=\"black\" points=\"607,-306 449,-306 449,-223 607,-223 607,-306\"/>\r\n",
       "<text text-anchor=\"middle\" x=\"528\" y=\"-290.8\" font-family=\"Times New Roman,serif\" font-size=\"14.00\">petal length (cm) &lt;= 4.85</text>\r\n",
       "<text text-anchor=\"middle\" x=\"528\" y=\"-275.8\" font-family=\"Times New Roman,serif\" font-size=\"14.00\">gini = 0.053</text>\r\n",
       "<text text-anchor=\"middle\" x=\"528\" y=\"-260.8\" font-family=\"Times New Roman,serif\" font-size=\"14.00\">samples = 37</text>\r\n",
       "<text text-anchor=\"middle\" x=\"528\" y=\"-245.8\" font-family=\"Times New Roman,serif\" font-size=\"14.00\">value = [0, 1, 36]</text>\r\n",
       "<text text-anchor=\"middle\" x=\"528\" y=\"-230.8\" font-family=\"Times New Roman,serif\" font-size=\"14.00\">class = virginica</text>\r\n",
       "</g>\r\n",
       "<!-- 6&#45;&gt;12 -->\r\n",
       "<g id=\"edge12\" class=\"edge\"><title>6&#45;&gt;12</title>\r\n",
       "<path fill=\"none\" stroke=\"black\" d=\"M416.328,-341.907C430.52,-332.197 445.776,-321.758 460.314,-311.811\"/>\r\n",
       "<polygon fill=\"black\" stroke=\"black\" points=\"462.501,-314.556 468.777,-306.021 458.548,-308.779 462.501,-314.556\"/>\r\n",
       "</g>\r\n",
       "<!-- 8 -->\r\n",
       "<g id=\"node9\" class=\"node\"><title>8</title>\r\n",
       "<polygon fill=\"#8139e5\" stroke=\"black\" points=\"253.5,-179.5 146.5,-179.5 146.5,-111.5 253.5,-111.5 253.5,-179.5\"/>\r\n",
       "<text text-anchor=\"middle\" x=\"200\" y=\"-164.3\" font-family=\"Times New Roman,serif\" font-size=\"14.00\">gini = 0.0</text>\r\n",
       "<text text-anchor=\"middle\" x=\"200\" y=\"-149.3\" font-family=\"Times New Roman,serif\" font-size=\"14.00\">samples = 1</text>\r\n",
       "<text text-anchor=\"middle\" x=\"200\" y=\"-134.3\" font-family=\"Times New Roman,serif\" font-size=\"14.00\">value = [0, 0, 1]</text>\r\n",
       "<text text-anchor=\"middle\" x=\"200\" y=\"-119.3\" font-family=\"Times New Roman,serif\" font-size=\"14.00\">class = virginica</text>\r\n",
       "</g>\r\n",
       "<!-- 7&#45;&gt;8 -->\r\n",
       "<g id=\"edge8\" class=\"edge\"><title>7&#45;&gt;8</title>\r\n",
       "<path fill=\"none\" stroke=\"black\" d=\"M298.611,-222.907C283.231,-210.99 266.434,-197.976 251.133,-186.12\"/>\r\n",
       "<polygon fill=\"black\" stroke=\"black\" points=\"252.854,-183.025 242.805,-179.667 248.566,-188.559 252.854,-183.025\"/>\r\n",
       "</g>\r\n",
       "<!-- 9 -->\r\n",
       "<g id=\"node10\" class=\"node\"><title>9</title>\r\n",
       "<polygon fill=\"#9cf2c0\" stroke=\"black\" points=\"430,-187 272,-187 272,-104 430,-104 430,-187\"/>\r\n",
       "<text text-anchor=\"middle\" x=\"351\" y=\"-171.8\" font-family=\"Times New Roman,serif\" font-size=\"14.00\">petal length (cm) &lt;= 5.45</text>\r\n",
       "<text text-anchor=\"middle\" x=\"351\" y=\"-156.8\" font-family=\"Times New Roman,serif\" font-size=\"14.00\">gini = 0.444</text>\r\n",
       "<text text-anchor=\"middle\" x=\"351\" y=\"-141.8\" font-family=\"Times New Roman,serif\" font-size=\"14.00\">samples = 3</text>\r\n",
       "<text text-anchor=\"middle\" x=\"351\" y=\"-126.8\" font-family=\"Times New Roman,serif\" font-size=\"14.00\">value = [0, 2, 1]</text>\r\n",
       "<text text-anchor=\"middle\" x=\"351\" y=\"-111.8\" font-family=\"Times New Roman,serif\" font-size=\"14.00\">class = versicolor</text>\r\n",
       "</g>\r\n",
       "<!-- 7&#45;&gt;9 -->\r\n",
       "<g id=\"edge9\" class=\"edge\"><title>7&#45;&gt;9</title>\r\n",
       "<path fill=\"none\" stroke=\"black\" d=\"M351,-222.907C351,-214.649 351,-205.864 351,-197.302\"/>\r\n",
       "<polygon fill=\"black\" stroke=\"black\" points=\"354.5,-197.021 351,-187.021 347.5,-197.021 354.5,-197.021\"/>\r\n",
       "</g>\r\n",
       "<!-- 10 -->\r\n",
       "<g id=\"node11\" class=\"node\"><title>10</title>\r\n",
       "<polygon fill=\"#39e581\" stroke=\"black\" points=\"291,-68 175,-68 175,-0 291,-0 291,-68\"/>\r\n",
       "<text text-anchor=\"middle\" x=\"233\" y=\"-52.8\" font-family=\"Times New Roman,serif\" font-size=\"14.00\">gini = 0.0</text>\r\n",
       "<text text-anchor=\"middle\" x=\"233\" y=\"-37.8\" font-family=\"Times New Roman,serif\" font-size=\"14.00\">samples = 2</text>\r\n",
       "<text text-anchor=\"middle\" x=\"233\" y=\"-22.8\" font-family=\"Times New Roman,serif\" font-size=\"14.00\">value = [0, 2, 0]</text>\r\n",
       "<text text-anchor=\"middle\" x=\"233\" y=\"-7.8\" font-family=\"Times New Roman,serif\" font-size=\"14.00\">class = versicolor</text>\r\n",
       "</g>\r\n",
       "<!-- 9&#45;&gt;10 -->\r\n",
       "<g id=\"edge10\" class=\"edge\"><title>9&#45;&gt;10</title>\r\n",
       "<path fill=\"none\" stroke=\"black\" d=\"M307.061,-103.726C297.036,-94.423 286.389,-84.5428 276.386,-75.2612\"/>\r\n",
       "<polygon fill=\"black\" stroke=\"black\" points=\"278.595,-72.5362 268.884,-68.2996 273.834,-77.6673 278.595,-72.5362\"/>\r\n",
       "</g>\r\n",
       "<!-- 11 -->\r\n",
       "<g id=\"node12\" class=\"node\"><title>11</title>\r\n",
       "<polygon fill=\"#8139e5\" stroke=\"black\" points=\"416.5,-68 309.5,-68 309.5,-0 416.5,-0 416.5,-68\"/>\r\n",
       "<text text-anchor=\"middle\" x=\"363\" y=\"-52.8\" font-family=\"Times New Roman,serif\" font-size=\"14.00\">gini = 0.0</text>\r\n",
       "<text text-anchor=\"middle\" x=\"363\" y=\"-37.8\" font-family=\"Times New Roman,serif\" font-size=\"14.00\">samples = 1</text>\r\n",
       "<text text-anchor=\"middle\" x=\"363\" y=\"-22.8\" font-family=\"Times New Roman,serif\" font-size=\"14.00\">value = [0, 0, 1]</text>\r\n",
       "<text text-anchor=\"middle\" x=\"363\" y=\"-7.8\" font-family=\"Times New Roman,serif\" font-size=\"14.00\">class = virginica</text>\r\n",
       "</g>\r\n",
       "<!-- 9&#45;&gt;11 -->\r\n",
       "<g id=\"edge11\" class=\"edge\"><title>9&#45;&gt;11</title>\r\n",
       "<path fill=\"none\" stroke=\"black\" d=\"M355.468,-103.726C356.378,-95.4263 357.338,-86.6671 358.257,-78.2834\"/>\r\n",
       "<polygon fill=\"black\" stroke=\"black\" points=\"361.74,-78.6214 359.351,-68.2996 354.782,-77.8588 361.74,-78.6214\"/>\r\n",
       "</g>\r\n",
       "<!-- 13 -->\r\n",
       "<g id=\"node14\" class=\"node\"><title>13</title>\r\n",
       "<polygon fill=\"#c09cf2\" stroke=\"black\" points=\"608,-187 448,-187 448,-104 608,-104 608,-187\"/>\r\n",
       "<text text-anchor=\"middle\" x=\"528\" y=\"-171.8\" font-family=\"Times New Roman,serif\" font-size=\"14.00\">sepal length (cm) &lt;= 5.95</text>\r\n",
       "<text text-anchor=\"middle\" x=\"528\" y=\"-156.8\" font-family=\"Times New Roman,serif\" font-size=\"14.00\">gini = 0.444</text>\r\n",
       "<text text-anchor=\"middle\" x=\"528\" y=\"-141.8\" font-family=\"Times New Roman,serif\" font-size=\"14.00\">samples = 3</text>\r\n",
       "<text text-anchor=\"middle\" x=\"528\" y=\"-126.8\" font-family=\"Times New Roman,serif\" font-size=\"14.00\">value = [0, 1, 2]</text>\r\n",
       "<text text-anchor=\"middle\" x=\"528\" y=\"-111.8\" font-family=\"Times New Roman,serif\" font-size=\"14.00\">class = virginica</text>\r\n",
       "</g>\r\n",
       "<!-- 12&#45;&gt;13 -->\r\n",
       "<g id=\"edge13\" class=\"edge\"><title>12&#45;&gt;13</title>\r\n",
       "<path fill=\"none\" stroke=\"black\" d=\"M528,-222.907C528,-214.649 528,-205.864 528,-197.302\"/>\r\n",
       "<polygon fill=\"black\" stroke=\"black\" points=\"531.5,-197.021 528,-187.021 524.5,-197.021 531.5,-197.021\"/>\r\n",
       "</g>\r\n",
       "<!-- 16 -->\r\n",
       "<g id=\"node17\" class=\"node\"><title>16</title>\r\n",
       "<polygon fill=\"#8139e5\" stroke=\"black\" points=\"738,-179.5 626,-179.5 626,-111.5 738,-111.5 738,-179.5\"/>\r\n",
       "<text text-anchor=\"middle\" x=\"682\" y=\"-164.3\" font-family=\"Times New Roman,serif\" font-size=\"14.00\">gini = 0.0</text>\r\n",
       "<text text-anchor=\"middle\" x=\"682\" y=\"-149.3\" font-family=\"Times New Roman,serif\" font-size=\"14.00\">samples = 34</text>\r\n",
       "<text text-anchor=\"middle\" x=\"682\" y=\"-134.3\" font-family=\"Times New Roman,serif\" font-size=\"14.00\">value = [0, 0, 34]</text>\r\n",
       "<text text-anchor=\"middle\" x=\"682\" y=\"-119.3\" font-family=\"Times New Roman,serif\" font-size=\"14.00\">class = virginica</text>\r\n",
       "</g>\r\n",
       "<!-- 12&#45;&gt;16 -->\r\n",
       "<g id=\"edge16\" class=\"edge\"><title>12&#45;&gt;16</title>\r\n",
       "<path fill=\"none\" stroke=\"black\" d=\"M581.43,-222.907C597.261,-210.88 614.563,-197.735 630.284,-185.791\"/>\r\n",
       "<polygon fill=\"black\" stroke=\"black\" points=\"632.499,-188.503 638.344,-179.667 628.264,-182.93 632.499,-188.503\"/>\r\n",
       "</g>\r\n",
       "<!-- 14 -->\r\n",
       "<g id=\"node15\" class=\"node\"><title>14</title>\r\n",
       "<polygon fill=\"#39e581\" stroke=\"black\" points=\"574,-68 458,-68 458,-0 574,-0 574,-68\"/>\r\n",
       "<text text-anchor=\"middle\" x=\"516\" y=\"-52.8\" font-family=\"Times New Roman,serif\" font-size=\"14.00\">gini = 0.0</text>\r\n",
       "<text text-anchor=\"middle\" x=\"516\" y=\"-37.8\" font-family=\"Times New Roman,serif\" font-size=\"14.00\">samples = 1</text>\r\n",
       "<text text-anchor=\"middle\" x=\"516\" y=\"-22.8\" font-family=\"Times New Roman,serif\" font-size=\"14.00\">value = [0, 1, 0]</text>\r\n",
       "<text text-anchor=\"middle\" x=\"516\" y=\"-7.8\" font-family=\"Times New Roman,serif\" font-size=\"14.00\">class = versicolor</text>\r\n",
       "</g>\r\n",
       "<!-- 13&#45;&gt;14 -->\r\n",
       "<g id=\"edge14\" class=\"edge\"><title>13&#45;&gt;14</title>\r\n",
       "<path fill=\"none\" stroke=\"black\" d=\"M523.532,-103.726C522.622,-95.4263 521.662,-86.6671 520.743,-78.2834\"/>\r\n",
       "<polygon fill=\"black\" stroke=\"black\" points=\"524.218,-77.8588 519.649,-68.2996 517.26,-78.6214 524.218,-77.8588\"/>\r\n",
       "</g>\r\n",
       "<!-- 15 -->\r\n",
       "<g id=\"node16\" class=\"node\"><title>15</title>\r\n",
       "<polygon fill=\"#8139e5\" stroke=\"black\" points=\"699.5,-68 592.5,-68 592.5,-0 699.5,-0 699.5,-68\"/>\r\n",
       "<text text-anchor=\"middle\" x=\"646\" y=\"-52.8\" font-family=\"Times New Roman,serif\" font-size=\"14.00\">gini = 0.0</text>\r\n",
       "<text text-anchor=\"middle\" x=\"646\" y=\"-37.8\" font-family=\"Times New Roman,serif\" font-size=\"14.00\">samples = 2</text>\r\n",
       "<text text-anchor=\"middle\" x=\"646\" y=\"-22.8\" font-family=\"Times New Roman,serif\" font-size=\"14.00\">value = [0, 0, 2]</text>\r\n",
       "<text text-anchor=\"middle\" x=\"646\" y=\"-7.8\" font-family=\"Times New Roman,serif\" font-size=\"14.00\">class = virginica</text>\r\n",
       "</g>\r\n",
       "<!-- 13&#45;&gt;15 -->\r\n",
       "<g id=\"edge15\" class=\"edge\"><title>13&#45;&gt;15</title>\r\n",
       "<path fill=\"none\" stroke=\"black\" d=\"M571.939,-103.726C581.964,-94.423 592.611,-84.5428 602.614,-75.2612\"/>\r\n",
       "<polygon fill=\"black\" stroke=\"black\" points=\"605.166,-77.6673 610.116,-68.2996 600.405,-72.5362 605.166,-77.6673\"/>\r\n",
       "</g>\r\n",
       "</g>\r\n",
       "</svg>\r\n"
      ],
      "text/plain": [
       "<graphviz.files.Source at 0x2c169731fd0>"
      ]
     },
     "execution_count": 4,
     "metadata": {},
     "output_type": "execute_result"
    }
   ],
   "source": [
    "import graphviz\n",
    "\n",
    "# 위에서 생성된 tree.dot 파일을 graphviz가 읽어서 시각화\n",
    "with open('tree.dot') as f:\n",
    "    dot_graph = f.read()\n",
    "graphviz.Source(dot_graph)"
   ]
  }
 ],
 "metadata": {
  "kernelspec": {
   "display_name": "Python 3",
   "language": "python",
   "name": "python3"
  },
  "language_info": {
   "codemirror_mode": {
    "name": "ipython",
    "version": 3
   },
   "file_extension": ".py",
   "mimetype": "text/x-python",
   "name": "python",
   "nbconvert_exporter": "python",
   "pygments_lexer": "ipython3",
   "version": "3.7.3"
  },
  "toc": {
   "base_numbering": 1,
   "nav_menu": {},
   "number_sections": false,
   "sideBar": true,
   "skip_h1_title": false,
   "title_cell": "Table of Contents",
   "title_sidebar": "Contents",
   "toc_cell": false,
   "toc_position": {},
   "toc_section_display": true,
   "toc_window_display": false
  },
  "varInspector": {
   "cols": {
    "lenName": 16,
    "lenType": 16,
    "lenVar": 40
   },
   "kernels_config": {
    "python": {
     "delete_cmd_postfix": "",
     "delete_cmd_prefix": "del ",
     "library": "var_list.py",
     "varRefreshCmd": "print(var_dic_list())"
    },
    "r": {
     "delete_cmd_postfix": ") ",
     "delete_cmd_prefix": "rm(",
     "library": "var_list.r",
     "varRefreshCmd": "cat(var_dic_list()) "
    }
   },
   "types_to_exclude": [
    "module",
    "function",
    "builtin_function_or_method",
    "instance",
    "_Feature"
   ],
   "window_display": false
  }
 },
 "nbformat": 4,
 "nbformat_minor": 2
}
