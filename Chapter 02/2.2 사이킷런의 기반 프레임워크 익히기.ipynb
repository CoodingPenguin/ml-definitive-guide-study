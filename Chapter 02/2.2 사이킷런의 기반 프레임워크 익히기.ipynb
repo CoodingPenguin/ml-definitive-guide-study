{
 "cells": [
  {
   "cell_type": "markdown",
   "metadata": {},
   "source": [
    "# 사이킷런의 기반 프레임워크 익히기\n",
    "## 1. Estimator 이해 및 `fit()`, `predict()` 메서드"
   ]
  },
  {
   "cell_type": "markdown",
   "metadata": {},
   "source": [
    "### 1.1. 지도 학습\n",
    "지도학습은 결과가 주어진 상태에서 입력과 결과값을 가지고 학습을 한 후 새로운 입력이 들어왔을 때 그 결과가 어떨지를 예측하는 것이다. 지도학습은 <strong>분류(Classification)</strong>과 <strong>회귀(Regression)</strong>으로 나눠진다.    \n",
    "이 때 분류 알고리즘을 구현한 클래스를 `Classifier`, 회귀 알고리즘을 구현한 클래스를 `Regression`이라고 한다. 그리고 이 두 클래스를 합쳐서 `Estimator` 클래스라고 부른다. 이 클래스 안에는 다음과 같이 두 개의 메서드가 정의되어 있다."
   ]
  },
  {
   "cell_type": "markdown",
   "metadata": {},
   "source": [
    "- `fit()` : 머신러닝 모델 학습\n",
    "- `predict()` : 학습된 모델의 예측"
   ]
  },
  {
   "cell_type": "markdown",
   "metadata": {},
   "source": [
    "![estimator](./estimator.png)"
   ]
  },
  {
   "cell_type": "markdown",
   "metadata": {},
   "source": [
    "### 1.2. 비지도 학습\n",
    "비지도 학습은 결과가 주어지지 않고 입력값만을 가지고 학습을 하는 것이다. 비지도 학습의 예로는 차원 축소, 클러스터링, 피처 추출(Feature Extraction) 등이 있다. \n",
    "- `fit()` : 입력 데이터의 형태에 맞춰 데이터를 변환하기 위해 사전 구조를 맞추는 작업을 하는 메서드\n",
    "- `transform()` : 입력 데이터의 차원 변환, 클러스터링, 피처 추출 등의 실제 작업을 하는 메서드"
   ]
  },
  {
   "cell_type": "markdown",
   "metadata": {},
   "source": [
    "## 2. 사이킷런의 주요 모듈"
   ]
  },
  {
   "cell_type": "markdown",
   "metadata": {},
   "source": [
    "**머신러닝 모델을 만드는 주요 과정**은 다음과 같다.\n",
    "1. 피처 처리 : feature의 가공, 변경, 추출\n",
    "2. ML 알고리즘 학습/예측 수행\n",
    "3. 모델 평가"
   ]
  },
  {
   "cell_type": "markdown",
   "metadata": {},
   "source": [
    "| 분류 | 모듈명 | 설명 |\n",
    "| :----------------: | :----------------: | :---------------- |\n",
    "| **예제 데이터** | `sklearn.datasets` | 사이킷런에 내장되어 예제로 제공하는 데이터 세트 |\n",
    "| **피처 처리** | `sklearn.preprocessing` | 데이터 전처리에 필요한 기능 제공(인코딩, 정규화, 스케일링 등) |\n",
    "| **피처 처리** |`sklearn.feature_selection`|가장 큰 영향력이 있는 feature 순서대로 selection 박업을 수행하는 기능 제공|\n",
    "| **피처 처리** |`sklearn.feature_extraction`|텍스트 데이터나 이미지 데이터의 벡터화된 피처 추출시 사용|\n",
    "| **피처 처리 & 차원 축소** | `sklearn.decomposition` | . PCA, NMF, Truncated SVD 등을 이용하여 차원 축소와 관련된 알고리즘을 지원 |\n",
    "| **데이터 분리, 검증 & 파라미터 튜닝** | `sklearn.model_selection` | 교차 검증을 위한 학습용/테스트용 데이터셋 분리, `GridSearch`로 파라미터 추출 등의 API 제공 |\n",
    "| **평가** | `sklearn.metrics` | 분류, 회귀, 클러스터링, 페어와이즈에 대한 다양한 성능 측정 방법 제공 |\n",
    "| **ML 알고리즘** | `sklearn.ensemble` | 앙상블 알고리즘과 그 외 랜덤 포레스트, 에이다 부스트, 그래디언트 부스팅 등을 제공 |\n",
    "| **ML 알고리즘** | `sklearn.linear_model` | 선형 회귀, Ridge, Lasso 및 로지스틱 회귀 등 회귀 관련 알고리즘 제공 |\n",
    "| **ML 알고리즘** | `sklearn.naive_bayes` | 나이브 베이즈 알고리즘과 그 외 가우시안 NB, 다항 분포 NB 제공 |\n",
    "| **ML 알고리즘** | `sklearn.neighbors` | K-NN과 같은 최근접 이웃 알고리즘 제공 |\n",
    "| **ML 알고리즘** | `sklearn.svm` | 서포트 벡터 머신 알고리즘 제공 |\n",
    "| **ML 알고리즘** | `sklearn.tree` | 의사 결정 트리 알고리즘 제공 |\n",
    "| **ML 알고리즘** | `sklearn.cluster` | K-평균, 계층형, DBSCAN 등과 같은 비지도 클러스터링 알고리즘 제공 |\n",
    "| **유틸리티** | `sklearn.pipeline` | 피처 처리 등의 변환과 ML 알고리즘 학습, 예측 등을 함께 묶어서 실행할 수 있는 유틸리티 제공 |"
   ]
  },
  {
   "cell_type": "markdown",
   "metadata": {},
   "source": [
    "## 3. 예제 데이터 세트\n",
    "사이킷런에서는 예제로 활용할 수 있는 예제 데이터 세트가 제공이 되며, 분류나 회귀를 **연습**하기 위한 데이터 세트(ex. `datasets.load_boston()`, `datasets.load_breast_cancer()`)와 분류나 클러스트링을 위한 **표본** 데이터를 생성할 수 있는 데이터 세트(ex. `datasets.make_classifications()`, `datasets.make_blobs()`)를 제공한다."
   ]
  },
  {
   "cell_type": "markdown",
   "metadata": {},
   "source": [
    "이 때 `fetch` 계열의 명령은 데이터가 너무 커서 패키지에 없으므로 인터넷으로 내려받아야 한다. 인터넷으로 다운 받은 후 `scikit_learn_data` 폴더에 저장되며 저장 후 계속해서 사용 가능하다."
   ]
  },
  {
   "cell_type": "markdown",
   "metadata": {},
   "source": [
    "사이킷런에 내장된 데이터 세트는 일반적으로 딕셔너리 형태로 되어 있으며, key값은 보통 다음과 같이 구성되어 있다.\n",
    "- data (`ndarray`) : feature의 데이터 세트\n",
    "- target (`ndarray`) : 분류 시 **label값**, 회귀 시 **숫자 결과값**으로 이루어진 데이터 세트\n",
    "- target_names (`ndarray`, `list`) : 개별 label 이름\n",
    "- feature_names (`ndarray`, `list`) : feature 이름\n",
    "- DESCR (`string`) : 데이터 세트에 대한 설명과 각 feature의 설명"
   ]
  },
  {
   "cell_type": "code",
   "execution_count": 1,
   "metadata": {},
   "outputs": [
    {
     "name": "stdout",
     "output_type": "stream",
     "text": [
      "<class 'sklearn.utils.Bunch'>\n"
     ]
    }
   ],
   "source": [
    "from sklearn.datasets import load_iris\n",
    "\n",
    "iris_data = load_iris()\n",
    "print(type(iris_data))"
   ]
  },
  {
   "cell_type": "markdown",
   "metadata": {},
   "source": [
    "`Bunch`는 파이썬의 딕셔너리 자료형과 매우 유사하다. 그러므로 key값과 value값을 가지고 있으며, `keys()` 함수를 통해 key값들을 확인할 수 있다."
   ]
  },
  {
   "cell_type": "code",
   "execution_count": 2,
   "metadata": {},
   "outputs": [
    {
     "name": "stdout",
     "output_type": "stream",
     "text": [
      "붓꽃 데이터 세트의 키값 :  dict_keys(['data', 'target', 'target_names', 'DESCR', 'feature_names', 'filename'])\n"
     ]
    }
   ],
   "source": [
    "keys = iris_data.keys()\n",
    "print('붓꽃 데이터 세트의 키값 : ', keys)"
   ]
  },
  {
   "cell_type": "markdown",
   "metadata": {},
   "source": [
    "`data`는 feature들의 데이터 값을 가리킨다. 그러므로 feature 데이터 값을 추출하고 싶으면 `dataset.data`로 추출할 수 있다. 나머지 key값이 가진 데이터도 위와 같이 추출 할 수 있다."
   ]
  },
  {
   "cell_type": "code",
   "execution_count": 6,
   "metadata": {},
   "outputs": [
    {
     "name": "stdout",
     "output_type": "stream",
     "text": [
      "feature_names의 type :  <class 'list'>\n",
      "feature_names의 shape :  4\n",
      "['sepal length (cm)', 'sepal width (cm)', 'petal length (cm)', 'petal width (cm)']\n",
      "\n",
      " target_names의 type :  <class 'numpy.ndarray'>\n",
      " target_names의 shape :  3\n",
      "['setosa' 'versicolor' 'virginica']\n",
      "\n",
      " data의 type :  <class 'numpy.ndarray'>\n",
      " data의 shape :  150\n",
      "[[5.1 3.5 1.4 0.2]\n",
      " [4.9 3.  1.4 0.2]\n",
      " [4.7 3.2 1.3 0.2]\n",
      " [4.6 3.1 1.5 0.2]\n",
      " [5.  3.6 1.4 0.2]\n",
      " [5.4 3.9 1.7 0.4]\n",
      " [4.6 3.4 1.4 0.3]\n",
      " [5.  3.4 1.5 0.2]\n",
      " [4.4 2.9 1.4 0.2]\n",
      " [4.9 3.1 1.5 0.1]\n",
      " [5.4 3.7 1.5 0.2]\n",
      " [4.8 3.4 1.6 0.2]\n",
      " [4.8 3.  1.4 0.1]\n",
      " [4.3 3.  1.1 0.1]\n",
      " [5.8 4.  1.2 0.2]\n",
      " [5.7 4.4 1.5 0.4]\n",
      " [5.4 3.9 1.3 0.4]\n",
      " [5.1 3.5 1.4 0.3]\n",
      " [5.7 3.8 1.7 0.3]\n",
      " [5.1 3.8 1.5 0.3]\n",
      " [5.4 3.4 1.7 0.2]\n",
      " [5.1 3.7 1.5 0.4]\n",
      " [4.6 3.6 1.  0.2]\n",
      " [5.1 3.3 1.7 0.5]\n",
      " [4.8 3.4 1.9 0.2]\n",
      " [5.  3.  1.6 0.2]\n",
      " [5.  3.4 1.6 0.4]\n",
      " [5.2 3.5 1.5 0.2]\n",
      " [5.2 3.4 1.4 0.2]\n",
      " [4.7 3.2 1.6 0.2]\n",
      " [4.8 3.1 1.6 0.2]\n",
      " [5.4 3.4 1.5 0.4]\n",
      " [5.2 4.1 1.5 0.1]\n",
      " [5.5 4.2 1.4 0.2]\n",
      " [4.9 3.1 1.5 0.2]\n",
      " [5.  3.2 1.2 0.2]\n",
      " [5.5 3.5 1.3 0.2]\n",
      " [4.9 3.6 1.4 0.1]\n",
      " [4.4 3.  1.3 0.2]\n",
      " [5.1 3.4 1.5 0.2]\n",
      " [5.  3.5 1.3 0.3]\n",
      " [4.5 2.3 1.3 0.3]\n",
      " [4.4 3.2 1.3 0.2]\n",
      " [5.  3.5 1.6 0.6]\n",
      " [5.1 3.8 1.9 0.4]\n",
      " [4.8 3.  1.4 0.3]\n",
      " [5.1 3.8 1.6 0.2]\n",
      " [4.6 3.2 1.4 0.2]\n",
      " [5.3 3.7 1.5 0.2]\n",
      " [5.  3.3 1.4 0.2]\n",
      " [7.  3.2 4.7 1.4]\n",
      " [6.4 3.2 4.5 1.5]\n",
      " [6.9 3.1 4.9 1.5]\n",
      " [5.5 2.3 4.  1.3]\n",
      " [6.5 2.8 4.6 1.5]\n",
      " [5.7 2.8 4.5 1.3]\n",
      " [6.3 3.3 4.7 1.6]\n",
      " [4.9 2.4 3.3 1. ]\n",
      " [6.6 2.9 4.6 1.3]\n",
      " [5.2 2.7 3.9 1.4]\n",
      " [5.  2.  3.5 1. ]\n",
      " [5.9 3.  4.2 1.5]\n",
      " [6.  2.2 4.  1. ]\n",
      " [6.1 2.9 4.7 1.4]\n",
      " [5.6 2.9 3.6 1.3]\n",
      " [6.7 3.1 4.4 1.4]\n",
      " [5.6 3.  4.5 1.5]\n",
      " [5.8 2.7 4.1 1. ]\n",
      " [6.2 2.2 4.5 1.5]\n",
      " [5.6 2.5 3.9 1.1]\n",
      " [5.9 3.2 4.8 1.8]\n",
      " [6.1 2.8 4.  1.3]\n",
      " [6.3 2.5 4.9 1.5]\n",
      " [6.1 2.8 4.7 1.2]\n",
      " [6.4 2.9 4.3 1.3]\n",
      " [6.6 3.  4.4 1.4]\n",
      " [6.8 2.8 4.8 1.4]\n",
      " [6.7 3.  5.  1.7]\n",
      " [6.  2.9 4.5 1.5]\n",
      " [5.7 2.6 3.5 1. ]\n",
      " [5.5 2.4 3.8 1.1]\n",
      " [5.5 2.4 3.7 1. ]\n",
      " [5.8 2.7 3.9 1.2]\n",
      " [6.  2.7 5.1 1.6]\n",
      " [5.4 3.  4.5 1.5]\n",
      " [6.  3.4 4.5 1.6]\n",
      " [6.7 3.1 4.7 1.5]\n",
      " [6.3 2.3 4.4 1.3]\n",
      " [5.6 3.  4.1 1.3]\n",
      " [5.5 2.5 4.  1.3]\n",
      " [5.5 2.6 4.4 1.2]\n",
      " [6.1 3.  4.6 1.4]\n",
      " [5.8 2.6 4.  1.2]\n",
      " [5.  2.3 3.3 1. ]\n",
      " [5.6 2.7 4.2 1.3]\n",
      " [5.7 3.  4.2 1.2]\n",
      " [5.7 2.9 4.2 1.3]\n",
      " [6.2 2.9 4.3 1.3]\n",
      " [5.1 2.5 3.  1.1]\n",
      " [5.7 2.8 4.1 1.3]\n",
      " [6.3 3.3 6.  2.5]\n",
      " [5.8 2.7 5.1 1.9]\n",
      " [7.1 3.  5.9 2.1]\n",
      " [6.3 2.9 5.6 1.8]\n",
      " [6.5 3.  5.8 2.2]\n",
      " [7.6 3.  6.6 2.1]\n",
      " [4.9 2.5 4.5 1.7]\n",
      " [7.3 2.9 6.3 1.8]\n",
      " [6.7 2.5 5.8 1.8]\n",
      " [7.2 3.6 6.1 2.5]\n",
      " [6.5 3.2 5.1 2. ]\n",
      " [6.4 2.7 5.3 1.9]\n",
      " [6.8 3.  5.5 2.1]\n",
      " [5.7 2.5 5.  2. ]\n",
      " [5.8 2.8 5.1 2.4]\n",
      " [6.4 3.2 5.3 2.3]\n",
      " [6.5 3.  5.5 1.8]\n",
      " [7.7 3.8 6.7 2.2]\n",
      " [7.7 2.6 6.9 2.3]\n",
      " [6.  2.2 5.  1.5]\n",
      " [6.9 3.2 5.7 2.3]\n",
      " [5.6 2.8 4.9 2. ]\n",
      " [7.7 2.8 6.7 2. ]\n",
      " [6.3 2.7 4.9 1.8]\n",
      " [6.7 3.3 5.7 2.1]\n",
      " [7.2 3.2 6.  1.8]\n",
      " [6.2 2.8 4.8 1.8]\n",
      " [6.1 3.  4.9 1.8]\n",
      " [6.4 2.8 5.6 2.1]\n",
      " [7.2 3.  5.8 1.6]\n",
      " [7.4 2.8 6.1 1.9]\n",
      " [7.9 3.8 6.4 2. ]\n",
      " [6.4 2.8 5.6 2.2]\n",
      " [6.3 2.8 5.1 1.5]\n",
      " [6.1 2.6 5.6 1.4]\n",
      " [7.7 3.  6.1 2.3]\n",
      " [6.3 3.4 5.6 2.4]\n",
      " [6.4 3.1 5.5 1.8]\n",
      " [6.  3.  4.8 1.8]\n",
      " [6.9 3.1 5.4 2.1]\n",
      " [6.7 3.1 5.6 2.4]\n",
      " [6.9 3.1 5.1 2.3]\n",
      " [5.8 2.7 5.1 1.9]\n",
      " [6.8 3.2 5.9 2.3]\n",
      " [6.7 3.3 5.7 2.5]\n",
      " [6.7 3.  5.2 2.3]\n",
      " [6.3 2.5 5.  1.9]\n",
      " [6.5 3.  5.2 2. ]\n",
      " [6.2 3.4 5.4 2.3]\n",
      " [5.9 3.  5.1 1.8]]\n",
      "\n",
      " target의 type :  <class 'numpy.ndarray'>\n",
      " target의 shape :  150\n",
      "[0 0 0 0 0 0 0 0 0 0 0 0 0 0 0 0 0 0 0 0 0 0 0 0 0 0 0 0 0 0 0 0 0 0 0 0 0\n",
      " 0 0 0 0 0 0 0 0 0 0 0 0 0 1 1 1 1 1 1 1 1 1 1 1 1 1 1 1 1 1 1 1 1 1 1 1 1\n",
      " 1 1 1 1 1 1 1 1 1 1 1 1 1 1 1 1 1 1 1 1 1 1 1 1 1 1 2 2 2 2 2 2 2 2 2 2 2\n",
      " 2 2 2 2 2 2 2 2 2 2 2 2 2 2 2 2 2 2 2 2 2 2 2 2 2 2 2 2 2 2 2 2 2 2 2 2 2\n",
      " 2 2]\n"
     ]
    }
   ],
   "source": [
    "print('feature_names의 type : ', type(iris_data.feature_names))\n",
    "print('feature_names의 shape : ', len(iris_data.feature_names))\n",
    "print(iris_data.feature_names)\n",
    "\n",
    "print('\\n target_names의 type : ', type(iris_data.target_names))\n",
    "print(' target_names의 shape : ', len(iris_data.target_names))\n",
    "print(iris_data.target_names)\n",
    "\n",
    "print('\\n data의 type : ', type(iris_data.data))\n",
    "print(' data의 shape : ', len(iris_data.data))\n",
    "print(iris_data.data)\n",
    "\n",
    "print('\\n target의 type : ', type(iris_data.target))\n",
    "print(' target의 shape : ', len(iris_data.target))\n",
    "print(iris_data.target)"
   ]
  }
 ],
 "metadata": {
  "kernelspec": {
   "display_name": "Python 3",
   "language": "python",
   "name": "python3"
  },
  "language_info": {
   "codemirror_mode": {
    "name": "ipython",
    "version": 3
   },
   "file_extension": ".py",
   "mimetype": "text/x-python",
   "name": "python",
   "nbconvert_exporter": "python",
   "pygments_lexer": "ipython3",
   "version": "3.7.3"
  }
 },
 "nbformat": 4,
 "nbformat_minor": 2
}
